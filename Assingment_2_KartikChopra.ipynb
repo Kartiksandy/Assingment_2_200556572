{
 "cells": [
  {
   "cell_type": "markdown",
   "id": "cbafc849",
   "metadata": {},
   "source": [
    "**************************\n",
    "# __ASSINGMENT 2__\n",
    "**************************\n",
    "\n",
    "<br>\n",
    "<br>\n",
    "\n",
    "#####  <font color=blue>BDAT1004_Data programming </font>\n",
    "<br>\n",
    "<br>\n",
    "<br>\n",
    "<br>\n",
    "<br>\n",
    "Submited by - Kartik Chopra\n",
    "Id - 200556572\n",
    "\n",
    "\n",
    "\n",
    "\n",
    "Submited To - Ethan davis\n",
    "\n"
   ]
  },
  {
   "cell_type": "markdown",
   "id": "72159a48",
   "metadata": {},
   "source": [
    "### Question 1\n",
    "\n",
    "Consider the following Python module:\n",
    "a = 0 <BR>\n",
    "def b():<BR>\n",
    " global a <BR>\n",
    " a = c(a) <BR>\n",
    "def c(a): <BR>\n",
    " return a + 2 <BR>\n",
    "After importing the module into the interpreter, you execute: <BR>\n",
    "b() <BR>\n",
    "b() <BR>\n",
    "b() <BR>\n",
    "a <BR>\n",
    "? <BR>\n",
    "What value is displayed when the last expression (a) is evaluated? Explain your <BR>\n",
    "answer by indicating what happens in every executed statement. <BR>"
   ]
  },
  {
   "cell_type": "code",
   "execution_count": 14,
   "id": "0941621c",
   "metadata": {},
   "outputs": [],
   "source": [
    "a = 0\n",
    "def b():\n",
    "    global a\n",
    "    a = c(a)\n",
    "def c(a):\n",
    "    return a + 2"
   ]
  },
  {
   "cell_type": "code",
   "execution_count": 16,
   "id": "76fb849e",
   "metadata": {},
   "outputs": [
    {
     "data": {
      "text/plain": [
       "6"
      ]
     },
     "execution_count": 16,
     "metadata": {},
     "output_type": "execute_result"
    }
   ],
   "source": [
    "b()\n",
    "b()\n",
    "b()\n",
    "a"
   ]
  },
  {
   "cell_type": "markdown",
   "id": "80cde130",
   "metadata": {},
   "source": [
    "Because its starting value is 0, \"a\" is used in both b and c. B() employs c(), which increases the values in a by 2. In this method, each time b and c are called, 2 is added to the value of an. Because \"a\" is a global variable, its value is changed globally each time b is invoked."
   ]
  },
  {
   "cell_type": "markdown",
   "id": "b8d8a93d",
   "metadata": {},
   "source": [
    "### Question 2\n",
    "\n",
    "Function fileLength(), given to you, takes the name of a file as input and returns <br>\n",
    "the length of the file:  <br>\n",
    ">>> fileLength('midterm.py')  <br>\n",
    "284  <br>\n",
    ">>> fileLength('idterm.py') <br>\n",
    "Traceback (most recent call last): <br>\n",
    "File \"<pyshell#34>\", line 1, in <module> <br>\n",
    " fileLength('idterm.py') <br>\n",
    "File \"/Users/me/midterm.py\", line 3, in fileLength <br>\n",
    " infile = open(filename) <br>\n",
    "FileNotFoundError: [Errno 2] No such file or directory: <br>\n",
    "'idterm.py' <br>\n",
    "As shown above, if the file cannot be found by the interpreter or if it cannot be read <br>\n",
    "as a text file, an exception will be raised. Modify function fileLength() so that a <br>\n",
    "friendly message is printed instead: <br>\n",
    ">>> fileLength('midterm.py') <br>\n",
    "358 <br>\n",
    ">>> fileLength('idterm.py') <br>\n",
    "File idterm.py not found. <br>\n"
   ]
  },
  {
   "cell_type": "code",
   "execution_count": 18,
   "id": "91f36939",
   "metadata": {},
   "outputs": [],
   "source": [
    "def file_len(f):\n",
    "    try:\n",
    "        file = open(f, \"r\")\n",
    "        contents = file.read()\n",
    "        print('Given file length is: ' + str(len(contents)))\n",
    "        file.close()\n",
    "    except FileNotFoundError:\n",
    "        print('File ' + f + ' not found')\n"
   ]
  },
  {
   "cell_type": "code",
   "execution_count": 23,
   "id": "590149d7",
   "metadata": {},
   "outputs": [
    {
     "name": "stdout",
     "output_type": "stream",
     "text": [
      "Given file length is: 123\n"
     ]
    }
   ],
   "source": [
    "file_len(\"Filelength.txt\")"
   ]
  },
  {
   "cell_type": "code",
   "execution_count": 24,
   "id": "9c0f6478",
   "metadata": {},
   "outputs": [
    {
     "name": "stdout",
     "output_type": "stream",
     "text": [
      "File filelength.py not found\n"
     ]
    }
   ],
   "source": [
    "file_len(\"filelength.py\")"
   ]
  },
  {
   "cell_type": "markdown",
   "id": "dca52ff4",
   "metadata": {},
   "source": [
    "Question 3\n",
    "Write a class named Marsupial that can be used as shown below: <br>\n",
    ">>> m = Marsupial() <br>\n",
    ">>> m.put_in_pouch('doll') <br>\n",
    ">>> m.put_in_pouch('firetruck') <br>\n",
    ">>> m.put_in_pouch('kitten') <br>\n",
    ">>> m.pouch_contents() <br>\n",
    "['doll', 'firetruck', 'kitten'] <br>\n",
    "Now write a class named Kangaroo as a subclass of Marsupial that inherits all the <br>\n",
    "attributes of Marsupial and also: <br>\n",
    "a. extends the Marsupial __init__ constructor to take, as input, the <br>\n",
    "coordinates x and y of the Kangaroo object, <br>\n",
    "b. supports method jump that takes number values dx and dy as input and <br>\n",
    "moves the kangaroo by dx units along the x-axis and by dy units along the yaxis, and <br>\n",
    "c. overloads the __str__ operator so it behaves as shown below. <br>\n",
    ">>> k = Kangaroo(0,0) <br>\n",
    ">>> print(k) <br>\n",
    "I am a Kangaroo located at coordinates (0,0) <br>\n",
    ">>> k.put_in_pouch('doll') <br>\n",
    ">>> k.put_in_pouch('firetruck') <br>\n",
    ">>> k.put_in_pouch('kitten') <br>\n",
    ">>> k.pouch_contents() <br>\n",
    "['doll', 'firetruck', 'kitten'] <br>\n",
    ">>> k.jump(1,0) <br>\n",
    ">>> k.jump(1,0) <br>\n",
    ">>> k.jump(1,0) <br>\n",
    ">>> print(k) <br>\n",
    "I am a Kangaroo located at coordinates (3,0) <br>"
   ]
  },
  {
   "cell_type": "code",
   "execution_count": 27,
   "id": "7dcb9a97",
   "metadata": {},
   "outputs": [
    {
     "name": "stdout",
     "output_type": "stream",
     "text": [
      "I am a kangaroo located at coordinates (0, 0)\n",
      "['doll', 'firetruck', 'kitten']\n",
      "I am a kangaroo located at coordinates (3, 0)\n"
     ]
    }
   ],
   "source": [
    "class Marsupial:\n",
    "    def __init__(self):\n",
    "        self.pouch_items = []\n",
    "\n",
    "    def put_in_pouch(self, item):\n",
    "        self.pouch_items.append(item)\n",
    "\n",
    "    def pouch_contents(self):\n",
    "        return self.pouch_items\n",
    "\n",
    "\n",
    "class Kangaroo(Marsupial):\n",
    "    def __init__(self, x, y):\n",
    "        super().__init__()\n",
    "        self.x_coord = x\n",
    "        self.y_coord = y\n",
    "\n",
    "    def jump(self, dx, dy):\n",
    "        self.x_coord += dx\n",
    "        self.y_coord += dy\n",
    "\n",
    "    def __str__(self):\n",
    "        return f\"I am a kangaroo located at coordinates ({self.x_coord}, {self.y_coord})\"\n",
    "\n",
    "\n",
    "m = Kangaroo(0, 0)\n",
    "print(m)\n",
    "m.put_in_pouch('doll')\n",
    "m.put_in_pouch('firetruck')\n",
    "m.put_in_pouch('kitten')\n",
    "print(m.pouch_contents())\n",
    "m.jump(1, 0)\n",
    "m.jump(1, 0)\n",
    "m.jump(1, 0)\n",
    "print(m)\n"
   ]
  },
  {
   "cell_type": "markdown",
   "id": "0b8cf1df",
   "metadata": {},
   "source": [
    "### Question 4\n",
    "Write function collatz() that takes a positive integer x as input and prints the <br>\n",
    "Collatz sequence starting at x. A Collatz sequence is obtained by repeatedly applying <br>\n",
    "this rule to the previous number x in the sequence: <br>\n",
    "x = { <br>\n",
    "𝑥/2 𝑖𝑓 𝑥 𝑖𝑠 𝑒𝑣𝑒𝑛 <br>\n",
    "3𝑥 + 1 𝑖𝑓 𝑥 𝑖𝑠 𝑜𝑑𝑑 <br>\n",
    "Your function should stop when the sequence gets to number 1. Your <br>\n",
    "implementation must be recursive, without any loops. <br>\n",
    ">>> collatz(1) <br>\n",
    "1 <br>\n",
    ">>> collatz(10) <br>\n",
    "10 <br>\n",
    "5 <br>\n",
    "16 <br>\n",
    "8 <br>\n",
    "4 <br>\n",
    "2 <br>\n",
    "1 <br>\n"
   ]
  },
  {
   "cell_type": "code",
   "execution_count": 28,
   "id": "79f8729c",
   "metadata": {},
   "outputs": [
    {
     "name": "stdout",
     "output_type": "stream",
     "text": [
      "[1]\n",
      "[15, 46, 23, 70, 35, 106, 53, 160, 80, 40, 20, 10, 5, 16, 8, 4, 2, 1]\n"
     ]
    }
   ],
   "source": [
    "def collatz(n):\n",
    "    sequence = [int(n)]  # Initialize the sequence with the starting number\n",
    "    \n",
    "    if n != 1:\n",
    "        if n % 2 != 0:\n",
    "            sequence.extend(collatz(3 * n + 1))\n",
    "        else:\n",
    "            sequence.extend(collatz(n / 2))\n",
    "    \n",
    "    return sequence\n",
    "\n",
    "# Testing the collatz function\n",
    "print(collatz(1))\n",
    "print(collatz(15))\n"
   ]
  },
  {
   "cell_type": "markdown",
   "id": "e77ecf93",
   "metadata": {},
   "source": [
    "### Question 5\n",
    "Write a recursive method binary() that takes a non-negative <br>\n",
    "integer n and prints the binary representation of integer n. <br>\n",
    ">>> binary(0) <br>\n",
    "0 <br>\n",
    ">>> binary(1) <br>\n",
    "1 <br>\n",
    ">>> binary(3) <br>\n",
    "11 <br>\n",
    ">>> binary(9) <br>\n",
    "1001 <br>\n"
   ]
  },
  {
   "cell_type": "code",
   "execution_count": 29,
   "id": "ef3294e7",
   "metadata": {},
   "outputs": [],
   "source": [
    "def binary(num):\n",
    "    if num > 0:\n",
    "        return (num % 2 + 10 * binary(int(num // 2)))\n",
    "    else:\n",
    "        return 0"
   ]
  },
  {
   "cell_type": "code",
   "execution_count": 30,
   "id": "c4571b08",
   "metadata": {},
   "outputs": [
    {
     "data": {
      "text/plain": [
       "0"
      ]
     },
     "execution_count": 30,
     "metadata": {},
     "output_type": "execute_result"
    }
   ],
   "source": [
    "binary(0)"
   ]
  },
  {
   "cell_type": "code",
   "execution_count": 31,
   "id": "ef3e0e52",
   "metadata": {},
   "outputs": [
    {
     "data": {
      "text/plain": [
       "101"
      ]
     },
     "execution_count": 31,
     "metadata": {},
     "output_type": "execute_result"
    }
   ],
   "source": [
    "binary(5)"
   ]
  },
  {
   "cell_type": "code",
   "execution_count": 32,
   "id": "48cfdcef",
   "metadata": {},
   "outputs": [
    {
     "data": {
      "text/plain": [
       "1100"
      ]
     },
     "execution_count": 32,
     "metadata": {},
     "output_type": "execute_result"
    }
   ],
   "source": [
    "binary(12)"
   ]
  },
  {
   "cell_type": "code",
   "execution_count": 33,
   "id": "57c38960",
   "metadata": {},
   "outputs": [
    {
     "data": {
      "text/plain": [
       "1001"
      ]
     },
     "execution_count": 33,
     "metadata": {},
     "output_type": "execute_result"
    }
   ],
   "source": [
    "binary(9)"
   ]
  },
  {
   "cell_type": "markdown",
   "id": "7c091244",
   "metadata": {},
   "source": [
    "### Question 6\n",
    "Implement a class named HeadingParser that can be used to parse an HTML <br>\n",
    "document, and retrieve and print all the headings in the document. You should <br>\n",
    "implement your class as a subclass of HTMLParser, defined in Standard Library <br>\n",
    "module html.parser. When fed a string containing HTML code, your class should <br>\n",
    "print the headings, one per line and in the order in which they appear in the <br>\n",
    "document. Each heading should be indented as follows: an h1 heading should have <br>\n",
    "indentation 0, and h2 heading should have indentation 1, etc. Test your <br>\n",
    "implementation using w3c.html. <br>\n",
    ">>> infile = open('w3c.html') <br>\n",
    ">>> content = infile.read() <br>\n",
    ">>> infile.close() <br>\n",
    ">>> hp = HeadingParser() <br>\n",
    ">>> hp.feed(content) <br>\n",
    "W3C Mission <br>\n",
    "Principles <br>"
   ]
  },
  {
   "cell_type": "code",
   "execution_count": 38,
   "id": "a79bb452",
   "metadata": {},
   "outputs": [
    {
     "name": "stdout",
     "output_type": "stream",
     "text": [
      "Change_me\n",
      "W3C Mission\n",
      "Principles\n"
     ]
    }
   ],
   "source": [
    "from html.parser import HTMLParser\n",
    "\n",
    "class HeadingParser(HTMLParser):\n",
    "    headers = ['h3', 'h4', 'h5', 'h6']\n",
    "    z = \"\"\n",
    "\n",
    "    def handle_starttag(self, x, attrs):\n",
    "        if x in self.headers:\n",
    "            print(self.z + x)\n",
    "\n",
    "    def handle_endtag(self, x):\n",
    "        if x in self.headers:\n",
    "            print(self.z + x)\n",
    "\n",
    "    def handle_data(self, y):\n",
    "        cleaned_data = y.strip()  # Remove leading/trailing spaces\n",
    "        if cleaned_data:\n",
    "            print(self.z + cleaned_data)\n",
    "\n",
    "# Read the content of the 'w3c.html' file\n",
    "with open('w3c.html', 'r') as file:\n",
    "    content = file.read()\n",
    "\n",
    "# Create an instance of the HeadingParser class\n",
    "hp = HeadingParser()\n",
    "\n",
    "# Parse the HTML content using the HeadingParser\n",
    "hp.feed(content)\n"
   ]
  },
  {
   "cell_type": "markdown",
   "id": "15ed11e9",
   "metadata": {},
   "source": [
    "### Question 7\n",
    "Implement recursive function webdir() that takes as input: a URL (as a string) and <br>\n",
    "non-negative integers depth and indent. Your function should visit every web <br>\n",
    "page reachable from the starting URL web page in depth clicks or less, and print <br>\n",
    "each web page's URL. As shown below, indentation, specified by indent, should <br>\n",
    "be used to indicate the depth of a URL. <br>\n",
    "\n",
    "webdir('http://reed.cs.depaul.edu/lperkovic/csc242/test1.html' <br>\n",
    ", 2, 0) <br>\n",
    "http://reed.cs.depaul.edu/lperkovic/csc242/test1.html <br>\n",
    " http://reed.cs.depaul.edu/lperkovic/csc242/test2.html <br>\n",
    " http://reed.cs.depaul.edu/lperkovic/csc242/test4.html <br>\n",
    " http://reed.cs.depaul.edu/lperkovic/csc242/test3.html <br>\n",
    " http://reed.cs.depaul.edu/lperkovic/csc242/test4.html <br>"
   ]
  },
  {
   "cell_type": "code",
   "execution_count": 44,
   "id": "55e77141",
   "metadata": {},
   "outputs": [],
   "source": [
    "from urllib.parse import urljoin\n",
    "from html.parser import HTMLParser\n",
    "from urllib.request import urlopen\n",
    "\n",
    "\n",
    "class Collector(HTMLParser):\n",
    "    'collects hyperlink URLs into a list'\n",
    "\n",
    "    def __init__(self, base_url):\n",
    "        'initializes parser, the base_url, and a list'\n",
    "        HTMLParser.__init__(self)\n",
    "        self.base_url = base_url\n",
    "        self.links = []\n",
    "\n",
    "    def handle_starttag(self, tag, attrs):\n",
    "        'collects hyperlink URLs in their absolute format'\n",
    "        if tag == 'a':\n",
    "            for attr in attrs:\n",
    "                if attr[0] == 'href':\n",
    "                    # construct absolute URL\n",
    "                    absolute = urljoin(self.base_url, attr[1])\n",
    "                    if absolute[:4] == 'http':  # collect HTTP URLs\n",
    "                        self.links.append(absolute)\n",
    "\n",
    "    def get_links(self):\n",
    "        'returns hyperlink URLs in their absolute format'\n",
    "        return self.links\n",
    "\n",
    "\n",
    "def webdir(base_url, depth, indent):\n",
    "    if depth < 0:\n",
    "        return\n",
    "    print(\"\\t\" * indent + base_url)\n",
    "    resource = urlopen(base_url)\n",
    "    content = resource.read().decode()\n",
    "    collector = Collector(base_url)\n",
    "    collector.feed(content)\n",
    "    found_urls = collector.get_links()\n",
    "\n",
    "    for visit_url in found_urls:\n",
    "        webdir(visit_url, depth - 1, indent + 1)"
   ]
  },
  {
   "cell_type": "code",
   "execution_count": 46,
   "id": "e482d62b",
   "metadata": {},
   "outputs": [
    {
     "name": "stdout",
     "output_type": "stream",
     "text": [
      "https://reed.cs.depaul.edu/lperkovic/test1.html\n",
      "\thttp://reed.cs.depaul.edu/lperkovic/test2.html\n",
      "\t\thttp://reed.cs.depaul.edu/lperkovic/test4.html\n",
      "\thttps://reed.cs.depaul.edu/lperkovic/test3.html\n",
      "\t\thttps://reed.cs.depaul.edu/lperkovic/test4.html\n"
     ]
    }
   ],
   "source": [
    "webdir(\"https://reed.cs.depaul.edu/lperkovic/test1.html\",2,0)"
   ]
  },
  {
   "cell_type": "markdown",
   "id": "34516740",
   "metadata": {},
   "source": [
    "### Question 8\n",
    "Write SQL queries on the below database table that return <br>\n",
    "a) All the temperature data. <br>\n",
    "b) All the cities, but without repetition. <br>\n",
    "c) All the records for India. <br>\n",
    "d) All the Fall records. <br>\n",
    "e) The city, country, and season for which the average rainfall is between 200 <br>\n",
    "and 400 millimeters. <br>\n",
    "f) The city and country for which the average Fall temperature is above 20 <br>\n",
    "degrees, in increasing temperature order. <br>\n",
    "g) The total annual rainfall for Cairo. <br>\n",
    "h) The total rainfall for each season. <br>"
   ]
  },
  {
   "cell_type": "code",
   "execution_count": 17,
   "id": "87f4f940",
   "metadata": {},
   "outputs": [],
   "source": [
    "import sqlite3\n",
    "\n",
    "connection = sqlite3.connect('weather.db')\n",
    "cursor = connection.cursor()\n",
    "\n",
    "cursor.execute(\"CREATE TABLE weather (City text, Country text, Season text, Temperature dec, Rainfall dec)\")\n",
    "\n",
    "cursor.execute(\"INSERT INTO weather VALUES ('Banglore', 'India', 'Winter', 24.8, 5.9)\")\n",
    "\n",
    "cursor.execute(\"INSERT INTO weather VALUES ('Banglore', 'India', 'Spring', 28.4, 16.2)\")\n",
    "\n",
    "cursor.execute(\"INSERT INTO weather VALUES ('Banglore', 'India', 'Summer', 27.9, 1549.4)\")\n",
    "\n",
    "cursor.execute(\"INSERT INTO weather VALUES ('Banglore', 'India', 'Fall', 27.6, 346.0)\")\n",
    "\n",
    "cursor.execute(\"INSERT INTO weather VALUES ('Manchester', 'United Kingdom', 'Winter', 4.2, 207.7)\")\n",
    "\n",
    "cursor.execute(\"INSERT INTO weather VALUES ('Manchester', 'United Kingdom', 'Spring', 8.3, 169.6)\")\n",
    "\n",
    "cursor.execute(\"INSERT INTO weather VALUES ('Manchester', 'United Kingdom', 'Summer', 15.7, 157.0)\")\n",
    "\n",
    "cursor.execute(\"INSERT INTO weather VALUES ('Manchester', 'United Kingdom', 'Fall', 10.4, 218.5)\")\n",
    "\n",
    "cursor.execute(\"INSERT INTO weather VALUES ('Sahara', 'Africa', 'Winter', 13.6, 16.5)\")\n",
    "\n",
    "cursor.execute(\"INSERT INTO weather VALUES ('Sahara', 'Africa', 'Spring', 20.7, 6.5)\")\n",
    "\n",
    "cursor.execute(\"INSERT INTO weather VALUES ('Shara', 'Africa', 'Summer', 27.7, 0.1)\")\n",
    "\n",
    "cursor.execute(\"INSERT INTO weather VALUES ('Sahara', 'Africa', 'Fall', 22.2, 4.5)\")\n",
    "\n",
    "connection.commit()\n",
    "connection.close()\n"
   ]
  },
  {
   "cell_type": "code",
   "execution_count": 18,
   "id": "bab7abe7",
   "metadata": {},
   "outputs": [
    {
     "name": "stdout",
     "output_type": "stream",
     "text": [
      "(24.8,)\n",
      "(28.4,)\n",
      "(27.9,)\n",
      "(27.6,)\n",
      "(4.2,)\n",
      "(8.3,)\n",
      "(15.7,)\n",
      "(10.4,)\n",
      "(13.6,)\n",
      "(20.7,)\n",
      "(27.7,)\n",
      "(22.2,)\n",
      "('Banglore',)\n",
      "('Manchester',)\n",
      "('Sahara',)\n",
      "('Shara',)\n",
      "('Banglore', 'India', 'Fall', 27.6, 346)\n",
      "('Manchester', 'United Kingdom', 'Fall', 10.4, 218.5)\n",
      "('Sahara', 'Africa', 'Fall', 22.2, 4.5)\n",
      "('Banglore', 'India', 'Winter', 24.8, 5.9)\n",
      "('Banglore', 'India', 'Spring', 28.4, 16.2)\n",
      "('Banglore', 'India', 'Summer', 27.9, 1549.4)\n",
      "('Banglore', 'India', 'Fall', 27.6, 346)\n",
      "('Banglore', 'India')\n",
      "('Sahara', 'Africa')\n",
      "('Banglore', 'India', 'Fall')\n",
      "('Manchester', 'United Kingdom', 'Winter')\n",
      "('Manchester', 'United Kingdom', 'Fall')\n",
      "[(None,)]\n",
      "(569.0, 'Fall')\n",
      "(192.29999999999998, 'Spring')\n",
      "(1706.5, 'Summer')\n",
      "(230.1, 'Winter')\n"
     ]
    }
   ],
   "source": [
    "import sqlite3\n",
    "\n",
    "connection = sqlite3.connect('weather.db')\n",
    "cursor = connection.cursor()\n",
    "\n",
    "cursor.execute('SELECT Temperature FROM weather')\n",
    "\n",
    "for record in cursor:\n",
    "    print(record)\n",
    "\n",
    "cursor.execute('SELECT DISTINCT City FROM weather')\n",
    "\n",
    "for record in cursor:\n",
    "    print(record)\n",
    "\n",
    "cursor.execute('SELECT * FROM weather WHERE Season=\"Fall\"')\n",
    "\n",
    "for record in cursor:\n",
    "    print(record)\n",
    "\n",
    "cursor.execute('SELECT * FROM weather WHERE Country=\"India\"')\n",
    "\n",
    "for record in cursor:\n",
    "    print(record)\n",
    "\n",
    "cursor.execute('SELECT City, Country FROM weather WHERE (Season=\"Fall\") AND (Temperature>20) ORDER BY Temperature DESC')\n",
    "\n",
    "for record in cursor:\n",
    "    print(record)\n",
    "\n",
    "cursor.execute('SELECT City, Country, Season FROM weather WHERE (Rainfall>200) AND (Rainfall<400)')\n",
    "\n",
    "for record in cursor:\n",
    "    print(record)\n",
    "\n",
    "cursor.execute('SELECT SUM(Rainfall) FROM weather WHERE City=\"Cairo\"')\n",
    "\n",
    "annual_rainfall = cursor.fetchall()\n",
    "print(annual_rainfall)\n",
    "\n",
    "cursor.execute('SELECT SUM(Rainfall), Season FROM weather GROUP BY Season')\n",
    "\n",
    "for record in cursor:\n",
    "    print(record)\n",
    "\n",
    "connection.close()"
   ]
  },
  {
   "cell_type": "markdown",
   "id": "3c1c4a1f",
   "metadata": {},
   "source": [
    "### Question 9\n",
    ". Suppose list words is defined as follows:  <br>\n",
    ">>> words = ['The', 'quick', 'brown', 'fox', 'jumps', 'over', <br>\n",
    "'the', 'lazy', 'dog'] <br>\n",
    "Write list comprehension expressions that use list words and generate the following <br>\n",
    "lists: <br>\n",
    "a) ['THE', 'QUICK', 'BROWN', 'FOX', 'JUMPS', 'OVER', 'THE', <br>\n",
    "'LAZY', 'DOG'] <br>\n",
    "b) ['the', 'quick', 'brown', 'fox', 'jumps', 'over', 'the', <br>\n",
    "'lazy', 'dog'] <br>\n",
    "c) [3, 5, 5, 3, 5, 4, 3, 4, 3] (the list of lengths of words in list <br>\n",
    "words). <br>\n",
    "d) [['THE', 'the', 3], ['QUICK', 'quick', 5], ['BROWN', <br>\n",
    "'brown', 5], ['FOX', 'fox', 3], ['JUMPS', 'jumps', 5], <br>\n",
    "['OVER', 'over', 4], ['THE', 'the', 3], ['LAZY', 'lazy',\n",
    "4], ['DOG', 'dog', 3]] (the list containing a list for every word of list <br>\n",
    "words, where each list contains the word in uppercase and lowercase and the <br>\n",
    "length of the word.) <br>\n",
    "e) ['The', 'quick', 'brown', 'fox', 'jumps', 'over', 'the', <br>\n",
    "'lazy', 'dog'] (the list of words in list words containing 4 or more <br>\n",
    "characters. <br>"
   ]
  },
  {
   "cell_type": "code",
   "execution_count": 49,
   "id": "c70d13e6",
   "metadata": {},
   "outputs": [
    {
     "data": {
      "text/plain": [
       "['THE', 'QUICK', 'BROWN', 'FOX', 'JUMPS', 'OVER', 'THE', 'LAZY', 'DOG']"
      ]
     },
     "execution_count": 49,
     "metadata": {},
     "output_type": "execute_result"
    }
   ],
   "source": [
    "words = ['The', 'quick', 'brown', 'fox', 'jumps', 'over', 'the', 'lazy', 'dog']\n",
    "[a.upper() for a in words]"
   ]
  },
  {
   "cell_type": "code",
   "execution_count": 50,
   "id": "391576c7",
   "metadata": {},
   "outputs": [
    {
     "data": {
      "text/plain": [
       "['the', 'quick', 'brown', 'fox', 'jumps', 'over', 'the', 'lazy', 'dog']"
      ]
     },
     "execution_count": 50,
     "metadata": {},
     "output_type": "execute_result"
    }
   ],
   "source": [
    "[a.lower() for a in words]"
   ]
  },
  {
   "cell_type": "code",
   "execution_count": 51,
   "id": "84fbeee4",
   "metadata": {},
   "outputs": [
    {
     "data": {
      "text/plain": [
       "[3, 5, 5, 3, 5, 4, 3, 4, 3]"
      ]
     },
     "execution_count": 51,
     "metadata": {},
     "output_type": "execute_result"
    }
   ],
   "source": [
    "[len(a) for a in words]"
   ]
  },
  {
   "cell_type": "code",
   "execution_count": 52,
   "id": "0bae5276",
   "metadata": {},
   "outputs": [
    {
     "data": {
      "text/plain": [
       "[['THE', 'the', 3],\n",
       " ['QUICK', 'quick', 5],\n",
       " ['BROWN', 'brown', 5],\n",
       " ['FOX', 'fox', 3],\n",
       " ['JUMPS', 'jumps', 5],\n",
       " ['OVER', 'over', 4],\n",
       " ['THE', 'the', 3],\n",
       " ['LAZY', 'lazy', 4],\n",
       " ['DOG', 'dog', 3]]"
      ]
     },
     "execution_count": 52,
     "metadata": {},
     "output_type": "execute_result"
    }
   ],
   "source": [
    "[[a.upper(),a.lower(),len(a)] for a in words]"
   ]
  },
  {
   "cell_type": "code",
   "execution_count": 53,
   "id": "1efa4b73",
   "metadata": {},
   "outputs": [
    {
     "data": {
      "text/plain": [
       "['quick', 'brown', 'jumps', 'over', 'lazy']"
      ]
     },
     "execution_count": 53,
     "metadata": {},
     "output_type": "execute_result"
    }
   ],
   "source": [
    "[a for a in words if len(a) >= 4]"
   ]
  }
 ],
 "metadata": {
  "kernelspec": {
   "display_name": "Python 3 (ipykernel)",
   "language": "python",
   "name": "python3"
  },
  "language_info": {
   "codemirror_mode": {
    "name": "ipython",
    "version": 3
   },
   "file_extension": ".py",
   "mimetype": "text/x-python",
   "name": "python",
   "nbconvert_exporter": "python",
   "pygments_lexer": "ipython3",
   "version": "3.10.9"
  }
 },
 "nbformat": 4,
 "nbformat_minor": 5
}
